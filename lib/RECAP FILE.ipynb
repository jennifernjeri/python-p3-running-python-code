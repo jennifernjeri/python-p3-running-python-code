{
 "cells": [
  {
   "cell_type": "code",
   "execution_count": 1,
   "id": "c206990e",
   "metadata": {},
   "outputs": [
    {
     "data": {
      "text/plain": [
       "'Hello Hello'"
      ]
     },
     "execution_count": 1,
     "metadata": {},
     "output_type": "execute_result"
    }
   ],
   "source": [
    "greeting = 'Hello'\n",
    "if greeting:\n",
    "    greeting += ' Hello'\n",
    "else:\n",
    "    greeting += 'Goodbye'\n",
    "greeting"
   ]
  },
  {
   "cell_type": "code",
   "execution_count": 2,
   "id": "42fb6e3e",
   "metadata": {},
   "outputs": [
    {
     "name": "stdout",
     "output_type": "stream",
     "text": [
      "Alex\n",
      "Juliet\n",
      "Penny\n"
     ]
    }
   ],
   "source": [
    "names = [\"Alex\", \"Juliet\", \"Penny\"]\n",
    "for names in names:\n",
    "    print(names)"
   ]
  },
  {
   "cell_type": "code",
   "execution_count": 3,
   "id": "f077f6d7",
   "metadata": {},
   "outputs": [
    {
     "name": "stdout",
     "output_type": "stream",
     "text": [
      "1\n",
      "2\n",
      "3\n"
     ]
    }
   ],
   "source": [
    "for i in range(1,4):\n",
    "    print(i)"
   ]
  },
  {
   "cell_type": "code",
   "execution_count": 5,
   "id": "8d115be6",
   "metadata": {},
   "outputs": [
    {
     "name": "stdout",
     "output_type": "stream",
     "text": [
      "Alex hello\n",
      "Juliet hello\n",
      "Penny hello\n"
     ]
    }
   ],
   "source": [
    "names = [\"Alex\", \"Juliet\", \"Penny\"]\n",
    "for name in names:\n",
    "    name += \" hello\"\n",
    "    print(name)"
   ]
  },
  {
   "cell_type": "code",
   "execution_count": null,
   "id": "568e9359",
   "metadata": {},
   "outputs": [],
   "source": []
  }
 ],
 "metadata": {
  "kernelspec": {
   "display_name": "Python (learn-env)",
   "language": "python",
   "name": "learn-env"
  },
  "language_info": {
   "codemirror_mode": {
    "name": "ipython",
    "version": 3
   },
   "file_extension": ".py",
   "mimetype": "text/x-python",
   "name": "python",
   "nbconvert_exporter": "python",
   "pygments_lexer": "ipython3",
   "version": "3.9.16"
  }
 },
 "nbformat": 4,
 "nbformat_minor": 5
}
